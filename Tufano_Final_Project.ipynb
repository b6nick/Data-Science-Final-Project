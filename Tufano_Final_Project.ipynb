{
  "cells": [
    {
      "cell_type": "markdown",
      "source": [
        "# Nick Tufano\n",
        "# Data Science 201 - Final Project "
      ],
      "metadata": {
        "id": "ePF1dlMhH0d3"
      }
    },
    {
      "cell_type": "markdown",
      "source": [
        "##**Business Understanding**"
      ],
      "metadata": {
        "id": "GzjaPX2JILm4"
      }
    },
    {
      "cell_type": "markdown",
      "source": [
        "This project uses machine learning algorithms to see if it can sucessfully predict when to buy a specific stock. As and Economics Major going into finance, the success of this algorithm would be extremley valuable both in a business setting and for individuals. There are thousands of firms across the globe that pay top dollar for quants, data scienctists, and computer scientists to explore just that. \n",
        "\n",
        "It is important to note in the business understanding that in order for this to be deployable in an actual company it needs to not only be successful, but with a strong degree of confidence as significant sums of money will be at stake. Given the amount this and the amount of research already done on the topic, I am pessimistic of my success in this, but nonetheless will serve as a great example of machine learning in a data-science project"
      ],
      "metadata": {
        "id": "Q1nkApeNS3oc"
      }
    },
    {
      "cell_type": "markdown",
      "source": [
        "##**Data Understanding**"
      ],
      "metadata": {
        "id": "n3y1cweHIT3c"
      }
    },
    {
      "cell_type": "markdown",
      "metadata": {
        "id": "yyVzp_yx_5iZ"
      },
      "source": [
        "**Importing Libraries**"
      ]
    },
    {
      "cell_type": "code",
      "execution_count": 2,
      "metadata": {
        "id": "FAw7erWt_cft"
      },
      "outputs": [],
      "source": [
        "import numpy as np\n",
        "import pandas as pd\n",
        "import matplotlib.pyplot as plt\n",
        "import seaborn as sb\n",
        " \n",
        "from sklearn.model_selection import train_test_split\n",
        "from sklearn.preprocessing import StandardScaler\n",
        "from sklearn.linear_model import LogisticRegression\n",
        "from sklearn.svm import SVC\n",
        "from xgboost import XGBClassifier\n",
        "from sklearn import metrics\n",
        " \n",
        "import warnings\n",
        "warnings.filterwarnings('ignore')"
      ]
    },
    {
      "cell_type": "markdown",
      "metadata": {
        "id": "ghKwRpGE_9K4"
      },
      "source": [
        "**Importing Data**"
      ]
    },
    {
      "cell_type": "code",
      "execution_count": 4,
      "metadata": {
        "id": "PbVB9zdE_80y"
      },
      "outputs": [],
      "source": [
        "df = pd.read_csv('stockprice.csv')"
      ]
    },
    {
      "cell_type": "markdown",
      "source": [
        "**Exploring the Data**"
      ],
      "metadata": {
        "id": "4wNkLiyEViMD"
      }
    },
    {
      "cell_type": "code",
      "source": [
        "df.head()"
      ],
      "metadata": {
        "colab": {
          "base_uri": "https://localhost:8080/",
          "height": 204
        },
        "id": "3y30oKciVUTb",
        "outputId": "52e2f5b2-294f-4785-ab78-945922bcc4d7"
      },
      "execution_count": 5,
      "outputs": [
        {
          "output_type": "execute_result",
          "data": {
            "text/plain": [
              "         Date       Open       High        Low      Close  Adj Close    Volume\n",
              "0  2002-12-13  29.299999  29.440001  28.219999  28.520000  19.852179   7609900\n",
              "1  2002-12-16  28.549999  28.990000  28.290001  28.680000  19.963556   8149700\n",
              "2  2002-12-17  28.600000  28.610001  27.570000  27.709999  19.288351   9248800\n",
              "3  2002-12-18  27.690001  27.959999  27.260000  27.520000  19.156096  13631300\n",
              "4  2002-12-19  27.250000  28.200001  27.200001  27.580000  19.197863   6990900"
            ],
            "text/html": [
              "\n",
              "  <div id=\"df-80497fb0-070a-4d0e-b8f2-c4d37135ba26\">\n",
              "    <div class=\"colab-df-container\">\n",
              "      <div>\n",
              "<style scoped>\n",
              "    .dataframe tbody tr th:only-of-type {\n",
              "        vertical-align: middle;\n",
              "    }\n",
              "\n",
              "    .dataframe tbody tr th {\n",
              "        vertical-align: top;\n",
              "    }\n",
              "\n",
              "    .dataframe thead th {\n",
              "        text-align: right;\n",
              "    }\n",
              "</style>\n",
              "<table border=\"1\" class=\"dataframe\">\n",
              "  <thead>\n",
              "    <tr style=\"text-align: right;\">\n",
              "      <th></th>\n",
              "      <th>Date</th>\n",
              "      <th>Open</th>\n",
              "      <th>High</th>\n",
              "      <th>Low</th>\n",
              "      <th>Close</th>\n",
              "      <th>Adj Close</th>\n",
              "      <th>Volume</th>\n",
              "    </tr>\n",
              "  </thead>\n",
              "  <tbody>\n",
              "    <tr>\n",
              "      <th>0</th>\n",
              "      <td>2002-12-13</td>\n",
              "      <td>29.299999</td>\n",
              "      <td>29.440001</td>\n",
              "      <td>28.219999</td>\n",
              "      <td>28.520000</td>\n",
              "      <td>19.852179</td>\n",
              "      <td>7609900</td>\n",
              "    </tr>\n",
              "    <tr>\n",
              "      <th>1</th>\n",
              "      <td>2002-12-16</td>\n",
              "      <td>28.549999</td>\n",
              "      <td>28.990000</td>\n",
              "      <td>28.290001</td>\n",
              "      <td>28.680000</td>\n",
              "      <td>19.963556</td>\n",
              "      <td>8149700</td>\n",
              "    </tr>\n",
              "    <tr>\n",
              "      <th>2</th>\n",
              "      <td>2002-12-17</td>\n",
              "      <td>28.600000</td>\n",
              "      <td>28.610001</td>\n",
              "      <td>27.570000</td>\n",
              "      <td>27.709999</td>\n",
              "      <td>19.288351</td>\n",
              "      <td>9248800</td>\n",
              "    </tr>\n",
              "    <tr>\n",
              "      <th>3</th>\n",
              "      <td>2002-12-18</td>\n",
              "      <td>27.690001</td>\n",
              "      <td>27.959999</td>\n",
              "      <td>27.260000</td>\n",
              "      <td>27.520000</td>\n",
              "      <td>19.156096</td>\n",
              "      <td>13631300</td>\n",
              "    </tr>\n",
              "    <tr>\n",
              "      <th>4</th>\n",
              "      <td>2002-12-19</td>\n",
              "      <td>27.250000</td>\n",
              "      <td>28.200001</td>\n",
              "      <td>27.200001</td>\n",
              "      <td>27.580000</td>\n",
              "      <td>19.197863</td>\n",
              "      <td>6990900</td>\n",
              "    </tr>\n",
              "  </tbody>\n",
              "</table>\n",
              "</div>\n",
              "      <button class=\"colab-df-convert\" onclick=\"convertToInteractive('df-80497fb0-070a-4d0e-b8f2-c4d37135ba26')\"\n",
              "              title=\"Convert this dataframe to an interactive table.\"\n",
              "              style=\"display:none;\">\n",
              "        \n",
              "  <svg xmlns=\"http://www.w3.org/2000/svg\" height=\"24px\"viewBox=\"0 0 24 24\"\n",
              "       width=\"24px\">\n",
              "    <path d=\"M0 0h24v24H0V0z\" fill=\"none\"/>\n",
              "    <path d=\"M18.56 5.44l.94 2.06.94-2.06 2.06-.94-2.06-.94-.94-2.06-.94 2.06-2.06.94zm-11 1L8.5 8.5l.94-2.06 2.06-.94-2.06-.94L8.5 2.5l-.94 2.06-2.06.94zm10 10l.94 2.06.94-2.06 2.06-.94-2.06-.94-.94-2.06-.94 2.06-2.06.94z\"/><path d=\"M17.41 7.96l-1.37-1.37c-.4-.4-.92-.59-1.43-.59-.52 0-1.04.2-1.43.59L10.3 9.45l-7.72 7.72c-.78.78-.78 2.05 0 2.83L4 21.41c.39.39.9.59 1.41.59.51 0 1.02-.2 1.41-.59l7.78-7.78 2.81-2.81c.8-.78.8-2.07 0-2.86zM5.41 20L4 18.59l7.72-7.72 1.47 1.35L5.41 20z\"/>\n",
              "  </svg>\n",
              "      </button>\n",
              "      \n",
              "  <style>\n",
              "    .colab-df-container {\n",
              "      display:flex;\n",
              "      flex-wrap:wrap;\n",
              "      gap: 12px;\n",
              "    }\n",
              "\n",
              "    .colab-df-convert {\n",
              "      background-color: #E8F0FE;\n",
              "      border: none;\n",
              "      border-radius: 50%;\n",
              "      cursor: pointer;\n",
              "      display: none;\n",
              "      fill: #1967D2;\n",
              "      height: 32px;\n",
              "      padding: 0 0 0 0;\n",
              "      width: 32px;\n",
              "    }\n",
              "\n",
              "    .colab-df-convert:hover {\n",
              "      background-color: #E2EBFA;\n",
              "      box-shadow: 0px 1px 2px rgba(60, 64, 67, 0.3), 0px 1px 3px 1px rgba(60, 64, 67, 0.15);\n",
              "      fill: #174EA6;\n",
              "    }\n",
              "\n",
              "    [theme=dark] .colab-df-convert {\n",
              "      background-color: #3B4455;\n",
              "      fill: #D2E3FC;\n",
              "    }\n",
              "\n",
              "    [theme=dark] .colab-df-convert:hover {\n",
              "      background-color: #434B5C;\n",
              "      box-shadow: 0px 1px 3px 1px rgba(0, 0, 0, 0.15);\n",
              "      filter: drop-shadow(0px 1px 2px rgba(0, 0, 0, 0.3));\n",
              "      fill: #FFFFFF;\n",
              "    }\n",
              "  </style>\n",
              "\n",
              "      <script>\n",
              "        const buttonEl =\n",
              "          document.querySelector('#df-80497fb0-070a-4d0e-b8f2-c4d37135ba26 button.colab-df-convert');\n",
              "        buttonEl.style.display =\n",
              "          google.colab.kernel.accessAllowed ? 'block' : 'none';\n",
              "\n",
              "        async function convertToInteractive(key) {\n",
              "          const element = document.querySelector('#df-80497fb0-070a-4d0e-b8f2-c4d37135ba26');\n",
              "          const dataTable =\n",
              "            await google.colab.kernel.invokeFunction('convertToInteractive',\n",
              "                                                     [key], {});\n",
              "          if (!dataTable) return;\n",
              "\n",
              "          const docLinkHtml = 'Like what you see? Visit the ' +\n",
              "            '<a target=\"_blank\" href=https://colab.research.google.com/notebooks/data_table.ipynb>data table notebook</a>'\n",
              "            + ' to learn more about interactive tables.';\n",
              "          element.innerHTML = '';\n",
              "          dataTable['output_type'] = 'display_data';\n",
              "          await google.colab.output.renderOutput(dataTable, element);\n",
              "          const docLink = document.createElement('div');\n",
              "          docLink.innerHTML = docLinkHtml;\n",
              "          element.appendChild(docLink);\n",
              "        }\n",
              "      </script>\n",
              "    </div>\n",
              "  </div>\n",
              "  "
            ]
          },
          "metadata": {},
          "execution_count": 5
        }
      ]
    },
    {
      "cell_type": "code",
      "execution_count": 6,
      "metadata": {
        "colab": {
          "base_uri": "https://localhost:8080/"
        },
        "id": "rqFc3A5TAkYw",
        "outputId": "fdd91f00-a8d2-4220-f20a-c8b83e15c2e8"
      },
      "outputs": [
        {
          "output_type": "execute_result",
          "data": {
            "text/plain": [
              "(5034, 7)"
            ]
          },
          "metadata": {},
          "execution_count": 6
        }
      ],
      "source": [
        "df.shape"
      ]
    },
    {
      "cell_type": "code",
      "execution_count": 7,
      "metadata": {
        "colab": {
          "base_uri": "https://localhost:8080/"
        },
        "id": "-qhoQIwsAiu_",
        "outputId": "68c41f3b-504a-4105-9206-2526652b5c6c"
      },
      "outputs": [
        {
          "output_type": "execute_result",
          "data": {
            "text/plain": [
              "<bound method NDFrame.describe of             Date        Open        High         Low       Close   Adj Close  \\\n",
              "0     2002-12-13   29.299999   29.440001   28.219999   28.520000   19.852179   \n",
              "1     2002-12-16   28.549999   28.990000   28.290001   28.680000   19.963556   \n",
              "2     2002-12-17   28.600000   28.610001   27.570000   27.709999   19.288351   \n",
              "3     2002-12-18   27.690001   27.959999   27.260000   27.520000   19.156096   \n",
              "4     2002-12-19   27.250000   28.200001   27.200001   27.580000   19.197863   \n",
              "...          ...         ...         ...         ...         ...         ...   \n",
              "5029  2022-12-06  490.660004  491.470001  477.170013  481.160004  481.160004   \n",
              "5030  2022-12-07  479.089996  486.540009  478.869995  481.970001  481.970001   \n",
              "5031  2022-12-08  482.899994  483.329987  473.500000  481.420013  481.420013   \n",
              "5032  2022-12-09  475.100006  490.089996  470.500000  483.019989  483.019989   \n",
              "5033  2022-12-12  482.730011  487.820007  480.670013  487.679993  487.679993   \n",
              "\n",
              "        Volume  \n",
              "0      7609900  \n",
              "1      8149700  \n",
              "2      9248800  \n",
              "3     13631300  \n",
              "4      6990900  \n",
              "...        ...  \n",
              "5029   2995900  \n",
              "5030   2072600  \n",
              "5031   2901000  \n",
              "5032   4210100  \n",
              "5033   2276400  \n",
              "\n",
              "[5034 rows x 7 columns]>"
            ]
          },
          "metadata": {},
          "execution_count": 7
        }
      ],
      "source": [
        "df.describe"
      ]
    },
    {
      "cell_type": "code",
      "execution_count": 11,
      "metadata": {
        "colab": {
          "base_uri": "https://localhost:8080/"
        },
        "id": "jlclvgp-ArAS",
        "outputId": "8ca14aa8-516c-4146-f5b3-ee7a028f8e02"
      },
      "outputs": [
        {
          "output_type": "execute_result",
          "data": {
            "text/plain": [
              "<bound method DataFrame.info of             Date        Open        High         Low       Close   Adj Close  \\\n",
              "0     2002-12-13   29.299999   29.440001   28.219999   28.520000   19.852179   \n",
              "1     2002-12-16   28.549999   28.990000   28.290001   28.680000   19.963556   \n",
              "2     2002-12-17   28.600000   28.610001   27.570000   27.709999   19.288351   \n",
              "3     2002-12-18   27.690001   27.959999   27.260000   27.520000   19.156096   \n",
              "4     2002-12-19   27.250000   28.200001   27.200001   27.580000   19.197863   \n",
              "...          ...         ...         ...         ...         ...         ...   \n",
              "5029  2022-12-06  490.660004  491.470001  477.170013  481.160004  481.160004   \n",
              "5030  2022-12-07  479.089996  486.540009  478.869995  481.970001  481.970001   \n",
              "5031  2022-12-08  482.899994  483.329987  473.500000  481.420013  481.420013   \n",
              "5032  2022-12-09  475.100006  490.089996  470.500000  483.019989  483.019989   \n",
              "5033  2022-12-12  482.730011  487.820007  480.670013  487.679993  487.679993   \n",
              "\n",
              "        Volume  \n",
              "0      7609900  \n",
              "1      8149700  \n",
              "2      9248800  \n",
              "3     13631300  \n",
              "4      6990900  \n",
              "...        ...  \n",
              "5029   2995900  \n",
              "5030   2072600  \n",
              "5031   2901000  \n",
              "5032   4210100  \n",
              "5033   2276400  \n",
              "\n",
              "[5034 rows x 7 columns]>"
            ]
          },
          "metadata": {},
          "execution_count": 11
        }
      ],
      "source": [
        "df.info"
      ]
    },
    {
      "cell_type": "markdown",
      "source": [
        "**Plotting Rise of Costco Stock Price**"
      ],
      "metadata": {
        "id": "syzOBlwzWG2Y"
      }
    },
    {
      "cell_type": "code",
      "execution_count": 21,
      "metadata": {
        "colab": {
          "base_uri": "https://localhost:8080/",
          "height": 338
        },
        "id": "5Wxs_760Areg",
        "outputId": "0300a278-eda5-4222-f164-c0165620a362"
      },
      "outputs": [
        {
          "output_type": "display_data",
          "data": {
            "text/plain": [
              "<Figure size 1080x360 with 1 Axes>"
            ],
            "image/png": "[encoded data removed]"
          },
          "metadata": {
            "needs_background": "light"
          }
        }
      ],
      "source": [
        "plt.figure(figsize=(15,5))\n",
        "plt.plot(df['Close'])\n",
        "plt.title('Costco Close Price', fontsize=15)\n",
        "plt.ylabel('Price in dollars.')\n",
        "plt.show()"
      ]
    },
    {
      "cell_type": "markdown",
      "source": [
        "**Checking Distribution of Variables**"
      ],
      "metadata": {
        "id": "ilM6XlR8W0Ly"
      }
    },
    {
      "cell_type": "code",
      "execution_count": null,
      "metadata": {
        "colab": {
          "base_uri": "https://localhost:8080/",
          "height": 380
        },
        "id": "LltbMXZhArjI",
        "outputId": "37702f7c-beca-4726-e95e-723f1d44f53d"
      },
      "outputs": [
        {
          "data": {
            "image/png": "[encoded data removed]",
            "text/plain": [
              "<Figure size 1440x720 with 5 Axes>"
            ]
          },
          "metadata": {},
          "output_type": "display_data"
        }
      ],
      "source": [
        "features = ['Open', 'High', 'Low', 'Close', 'Volume']\n",
        " \n",
        "plt.subplots(figsize=(20,10))\n",
        " \n",
        "for i, col in enumerate(features):\n",
        "  plt.subplot(2,3,i+1)\n",
        "  sb.distplot(df[col])\n",
        "plt.show()"
      ]
    },
    {
      "cell_type": "markdown",
      "metadata": {
        "id": "Yz5YSXYaBrXi"
      },
      "source": [
        "##**Data Preperation**"
      ]
    },
    {
      "cell_type": "markdown",
      "source": [
        "**Dropping Unused Variables**"
      ],
      "metadata": {
        "id": "2bGScTQRWSpN"
      }
    },
    {
      "cell_type": "code",
      "execution_count": 22,
      "metadata": {
        "colab": {
          "base_uri": "https://localhost:8080/"
        },
        "id": "B9BKZethArgx",
        "outputId": "0c54097c-db9a-4033-aa36-4004315a1b2f"
      },
      "outputs": [
        {
          "output_type": "execute_result",
          "data": {
            "text/plain": [
              "(32, 10)"
            ]
          },
          "metadata": {},
          "execution_count": 22
        }
      ],
      "source": [
        "df[df['Close'] == df['Adj Close']].shape"
      ]
    },
    {
      "cell_type": "code",
      "execution_count": 24,
      "metadata": {
        "id": "f6HDsaoCBK26"
      },
      "outputs": [],
      "source": [
        "df = df.drop(['Adj Close'], axis=1)"
      ]
    },
    {
      "cell_type": "markdown",
      "source": [
        "**Checking for Null Values in Variables**"
      ],
      "metadata": {
        "id": "q8VXUUIzWkGP"
      }
    },
    {
      "cell_type": "code",
      "execution_count": null,
      "metadata": {
        "colab": {
          "base_uri": "https://localhost:8080/"
        },
        "id": "oE3VNoMgBSvR",
        "outputId": "1b993ca4-30a5-4c59-e799-7a0d3ae0b419"
      },
      "outputs": [
        {
          "data": {
            "text/plain": [
              "Date      0\n",
              "Open      0\n",
              "High      0\n",
              "Low       0\n",
              "Close     0\n",
              "Volume    0\n",
              "dtype: int64"
            ]
          },
          "execution_count": 12,
          "metadata": {},
          "output_type": "execute_result"
        }
      ],
      "source": [
        "df.isnull().sum()"
      ]
    },
    {
      "cell_type": "markdown",
      "source": [
        "**Checking for Outliers**"
      ],
      "metadata": {
        "id": "ZnUB5b31W_09"
      }
    },
    {
      "cell_type": "code",
      "execution_count": null,
      "metadata": {
        "colab": {
          "base_uri": "https://localhost:8080/",
          "height": 398
        },
        "id": "rD3sthOqArle",
        "outputId": "acbcf834-1d6f-4355-ed65-bbffaf63c69e"
      },
      "outputs": [
        {
          "data": {
            "image/png": "[encoded data removed]",
            "text/plain": [
              "<Figure size 1440x720 with 5 Axes>"
            ]
          },
          "metadata": {},
          "output_type": "display_data"
        }
      ],
      "source": [
        "plt.subplots(figsize=(20,10))\n",
        "for i, col in enumerate(features):\n",
        "  plt.subplot(2,3,i+1)\n",
        "  sb.boxplot(df[col])\n",
        "plt.show()"
      ]
    },
    {
      "cell_type": "markdown",
      "source": [
        "No outliers other than volume which is okay. Variance in share prices makes sense given the trend of the stock price in the last two years."
      ],
      "metadata": {
        "id": "yEfPdCVSXIMX"
      }
    },
    {
      "cell_type": "markdown",
      "metadata": {
        "id": "HfheneX5A2bJ"
      },
      "source": [
        "##**Modeling+Evaluating**\n",
        "\n"
      ]
    },
    {
      "cell_type": "markdown",
      "source": [
        "Setting target value for machine learning to strive for."
      ],
      "metadata": {
        "id": "Mx0uU1q7awrq"
      }
    },
    {
      "cell_type": "code",
      "source": [
        "df['open-close']  = df['Open'] - df['Close']\n",
        "df['low-high']  = df['Low'] - df['High']\n",
        "df['target'] = np.where(df['Close'].shift(-1) > df['Close'], 1, 0)"
      ],
      "metadata": {
        "id": "s5FqCNkjCP1Z"
      },
      "execution_count": 14,
      "outputs": []
    },
    {
      "cell_type": "markdown",
      "source": [
        "Checking if target is balanced"
      ],
      "metadata": {
        "id": "KCiubKWLbZyI"
      }
    },
    {
      "cell_type": "code",
      "source": [
        "plt.pie(df['target'].value_counts().values,\n",
        "        labels=[0, 1], autopct='%1.1f%%')\n",
        "plt.show()"
      ],
      "metadata": {
        "colab": {
          "base_uri": "https://localhost:8080/",
          "height": 248
        },
        "id": "vpKzVTThCPyq",
        "outputId": "1917c7dd-7652-470f-a7ce-69a00c7f8ff9"
      },
      "execution_count": 15,
      "outputs": [
        {
          "output_type": "display_data",
          "data": {
            "text/plain": [
              "<Figure size 432x288 with 1 Axes>"
            ],
            "image/png": "[encoded data removed]"
          },
          "metadata": {}
        }
      ]
    },
    {
      "cell_type": "markdown",
      "source": [
        "Using a heatmap to see if any variables are highly correlated. Setting the threshold fpr high correlation as anything over 0.9."
      ],
      "metadata": {
        "id": "icPJhCfrb6s0"
      }
    },
    {
      "cell_type": "code",
      "source": [
        "plt.figure(figsize=(10, 10))\n",
        "sb.heatmap(df.corr() > 0.9, annot=True, cbar=False)\n",
        "plt.show()"
      ],
      "metadata": {
        "colab": {
          "base_uri": "https://localhost:8080/",
          "height": 592
        },
        "id": "GTN6jkQRCPtP",
        "outputId": "25c7f24f-a2e6-4e19-f893-89ccb71aa746"
      },
      "execution_count": 25,
      "outputs": [
        {
          "output_type": "display_data",
          "data": {
            "text/plain": [
              "<Figure size 720x720 with 1 Axes>"
            ],
            "image/png": "[encoded data removed]"
          },
          "metadata": {
            "needs_background": "light"
          }
        }
      ]
    },
    {
      "cell_type": "markdown",
      "source": [
        "From the above we can see that none of the variables are highly correlated other than Open, High, Low and Close which makes sense."
      ],
      "metadata": {
        "id": "zULjO2Ujbr37"
      }
    },
    {
      "cell_type": "code",
      "source": [
        "features = df[['open-close', 'low-high']]\n",
        "target = df['target']\n",
        " \n",
        "scaler = StandardScaler()\n",
        "features = scaler.fit_transform(features)\n",
        " \n",
        "X_train, X_valid, Y_train, Y_valid = train_test_split(\n",
        "    features, target, test_size=0.1, random_state=2022)\n",
        "print(X_train.shape, X_valid.shape)"
      ],
      "metadata": {
        "colab": {
          "base_uri": "https://localhost:8080/"
        },
        "id": "H9dtKqPQGaf2",
        "outputId": "5cf16064-8351-4db9-d641-7cd91b87ce1e"
      },
      "execution_count": 17,
      "outputs": [
        {
          "output_type": "stream",
          "name": "stdout",
          "text": [
            "(4530, 2) (504, 2)\n"
          ]
        }
      ]
    },
    {
      "cell_type": "markdown",
      "source": [
        "##**Deployment**"
      ],
      "metadata": {
        "id": "7M00yiPPGS58"
      }
    },
    {
      "cell_type": "markdown",
      "source": [
        "Using three types of machine learning to see which is able to best predict whether or not to buy Costco stock. The code below is for a logistic regression, a support vector classifier and a XGBClassifier."
      ],
      "metadata": {
        "id": "R5kriZU4QA3P"
      }
    },
    {
      "cell_type": "code",
      "source": [
        "models = [LogisticRegression(), SVC(\n",
        "  kernel='poly', probability=True), XGBClassifier()]\n",
        " \n",
        "for i in range(3):\n",
        "  models[i].fit(X_train, Y_train)\n",
        " \n",
        "  print(f'{models[i]} : ')\n",
        "  print('Training Accuracy : ', metrics.roc_auc_score(\n",
        "    Y_train, models[i].predict_proba(X_train)[:,1]))\n",
        "  print('Validation Accuracy : ', metrics.roc_auc_score(\n",
        "    Y_valid, models[i].predict_proba(X_valid)[:,1]))\n",
        "  print()"
      ],
      "metadata": {
        "colab": {
          "base_uri": "https://localhost:8080/"
        },
        "id": "WBjgOFR6GSiq",
        "outputId": "a9973679-0471-4805-fd5a-7b1840266683"
      },
      "execution_count": null,
      "outputs": [
        {
          "output_type": "stream",
          "name": "stdout",
          "text": [
            "LogisticRegression() : \n",
            "Training Accuracy :  0.4939901820501849\n",
            "Validation Accuracy :  0.5124842171717171\n",
            "\n",
            "SVC(kernel='poly', probability=True) : \n",
            "Training Accuracy :  0.5183777514485061\n",
            "Validation Accuracy :  0.5229640151515152\n",
            "\n",
            "XGBClassifier() : \n",
            "Training Accuracy :  0.6608878102870727\n",
            "Validation Accuracy :  0.49806660353535354\n",
            "\n"
          ]
        }
      ]
    },
    {
      "cell_type": "markdown",
      "source": [
        "From the above results we see that the logistic regression performed the worse. The best on the training set was the XGB Classifier, but lookingat how it performed in validation shows that the model is likely overfitting. SVC preformed moderatley well."
      ],
      "metadata": {
        "id": "un22eqHzQtZ7"
      }
    },
    {
      "cell_type": "markdown",
      "source": [
        "Visually plotting our results to better interpret them."
      ],
      "metadata": {
        "id": "-KRokK9VRJtr"
      }
    },
    {
      "cell_type": "code",
      "source": [
        "metrics.plot_confusion_matrix(models[0], X_valid, Y_valid)\n",
        "plt.show()"
      ],
      "metadata": {
        "colab": {
          "base_uri": "https://localhost:8080/",
          "height": 279
        },
        "id": "OD6HGF-TGNal",
        "outputId": "20483dfc-af34-49bb-a211-8415e0ec8292"
      },
      "execution_count": null,
      "outputs": [
        {
          "output_type": "display_data",
          "data": {
            "text/plain": [
              "<Figure size 432x288 with 2 Axes>"
            ],
            "image/png": "[encoded data removed]"
          },
          "metadata": {
            "needs_background": "light"
          }
        }
      ]
    },
    {
      "cell_type": "markdown",
      "source": [
        "The above graph shows that the models did not perform much better than flipping a coin.\n"
      ],
      "metadata": {
        "id": "1X8nIi6dROI0"
      }
    },
    {
      "cell_type": "markdown",
      "source": [
        "This result is what was expected. We were aware of the small liklihood of being able to sucessfully predict whether or not to buy a stock from the start. While the machine learning was unsucessful in this pursuit, we did successfully have the machine learning categorize the data. Having an unsuccessful model IS OKAY IN DATA SCIENCE. The import thing is that we take the time to understand why it fails and and are clear and transparent about those failures."
      ],
      "metadata": {
        "id": "NxUcnSzhRXvz"
      }
    },
    {
      "cell_type": "markdown",
      "source": [
        "##**Sources**"
      ],
      "metadata": {
        "id": "faAXRVOMO1uY"
      }
    },
    {
      "cell_type": "markdown",
      "source": [
        "https://www.geeksforgeeks.org/stock-price-prediction-using-machine-learning-in-python/"
      ],
      "metadata": {
        "id": "ZB3hlBZLHTh5"
      }
    },
    {
      "cell_type": "markdown",
      "source": [
        "https://neptune.ai/blog/predicting-stock-prices-using-machine-learning"
      ],
      "metadata": {
        "id": "bphbWGRaPLa8"
      }
    },
    {
      "cell_type": "markdown",
      "source": [
        "https://www.simplilearn.com/tutorials/machine-learning-tutorial/stock-price-prediction-using-machine-learning"
      ],
      "metadata": {
        "id": "lv9fWLtMPEki"
      }
    },
    {
      "cell_type": "markdown",
      "source": [
        "https://towardsdatascience.com/predicting-stock-prices-using-a-keras-lstm-model-4225457f0233"
      ],
      "metadata": {
        "id": "xd_tYZdvPRQL"
      }
    },
    {
      "cell_type": "markdown",
      "source": [
        "https://www.analyticsvidhya.com/blog/2021/10/machine-learning-for-stock-market-prediction-with-step-by-step-implementation/"
      ],
      "metadata": {
        "id": "Nq4F2Xn-PmOp"
      }
    }
  ],
  "metadata": {
    "colab": {
      "provenance": []
    },
    "kernelspec": {
      "display_name": "Python 3",
      "name": "python3"
    },
    "language_info": {
      "name": "python"
    }
  },
  "nbformat": 4,
  "nbformat_minor": 0
}