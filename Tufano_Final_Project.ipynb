{
  "cells": [
    {
      "cell_type": "markdown",
      "metadata": {
        "id": "view-in-github",
        "colab_type": "text"
      },
      "source": [
        "<a href=\"https://colab.research.google.com/github/b6nick/Data-Science-Final-Project/blob/main/Tufano_Final_Project.ipynb\" target=\"_parent\"><img src=\"https://colab.research.google.com/assets/colab-badge.svg\" alt=\"Open In Colab\"/></a>"
      ]
    },
    {
      "cell_type": "markdown",
      "source": [
        "# Nick Tufano\n",
        "# Data Science 201 - Final Project "
      ],
      "metadata": {
        "id": "ePF1dlMhH0d3"
      }
    },
    {
      "cell_type": "markdown",
      "source": [
        "##**Business Understanding**"
      ],
      "metadata": {
        "id": "GzjaPX2JILm4"
      }
    },
    {
      "cell_type": "markdown",
      "source": [
        "This project uses machine learning algorithms to see if it can sucessfully predict when to buy a specific stock. As and economics major going into finance, the success of this project would be extremley valuable both in a business setting and for individual investors. There are thousands of firms across the globe paying top dollar for quants, data scienctists, and computer scientists to explore this same topic. \n",
        "\n",
        "An important note as part of the business understanding. In order for this to be deployable as an actual investment strategy it needs to not only be successful, but with a strong degree of confidence as significant sums of real dollars will be at stake. Given the amount of dollars and research already done on the topic, I am pessimistic of my success in this project becoming a deployable investment strategy. Nonetheless, this will serve as a great example of the Data Science Process and the capabilities of machine learning"
      ],
      "metadata": {
        "id": "Q1nkApeNS3oc"
      }
    },
    {
      "cell_type": "markdown",
      "source": [
        "##**Data Understanding**"
      ],
      "metadata": {
        "id": "n3y1cweHIT3c"
      }
    },
    {
      "cell_type": "markdown",
      "metadata": {
        "id": "yyVzp_yx_5iZ"
      },
      "source": [
        "**Importing Libraries**"
      ]
    },
    {
      "cell_type": "code",
      "execution_count": 19,
      "metadata": {
        "id": "FAw7erWt_cft"
      },
      "outputs": [],
      "source": [
        "import numpy as np\n",
        "import pandas as pd\n",
        "import matplotlib.pyplot as plt\n",
        "import seaborn as sb\n",
        " \n",
        "from sklearn.model_selection import train_test_split\n",
        "from sklearn.preprocessing import StandardScaler\n",
        "from sklearn.linear_model import LogisticRegression\n",
        "from sklearn.svm import SVC\n",
        "from xgboost import XGBClassifier\n",
        "from sklearn import metrics\n",
        " \n",
        "import warnings\n",
        "warnings.filterwarnings('ignore')"
      ]
    },
    {
      "cell_type": "markdown",
      "metadata": {
        "id": "ghKwRpGE_9K4"
      },
      "source": [
        "**Importing Data**"
      ]
    },
    {
      "cell_type": "code",
      "execution_count": 20,
      "metadata": {
        "id": "PbVB9zdE_80y"
      },
      "outputs": [],
      "source": [
        "df = pd.read_csv('PGStockPrice.csv')"
      ]
    },
    {
      "cell_type": "markdown",
      "source": [
        "**Exploring the Data**"
      ],
      "metadata": {
        "id": "4wNkLiyEViMD"
      }
    },
    {
      "cell_type": "code",
      "source": [
        "df.head()"
      ],
      "metadata": {
        "colab": {
          "base_uri": "https://localhost:8080/",
          "height": 204
        },
        "id": "3y30oKciVUTb",
        "outputId": "c41c50bc-7db8-47c9-9b3e-c7f4781a1733"
      },
      "execution_count": 21,
      "outputs": [
        {
          "output_type": "execute_result",
          "data": {
            "text/plain": [
              "       Date       Open       High        Low      Close  Adj Close    Volume\n",
              "0  12/16/02  43.709999  44.025002  43.165001  44.025002  25.587589   6884200\n",
              "1  12/17/02  44.000000  44.005001  43.525002  43.700001  25.398678   6956200\n",
              "2  12/18/02  43.599998  43.924999  43.404999  43.685001  25.389971   6152400\n",
              "3  12/19/02  43.685001  43.695000  42.680000  42.849998  24.904657   9275800\n",
              "4  12/20/02  43.345001  43.889999  43.169998  43.840000  25.480066  11114800"
            ],
            "text/html": [
              "\n",
              "  <div id=\"df-6bfbc95f-ad0b-4206-99de-58aa2a3bc8da\">\n",
              "    <div class=\"colab-df-container\">\n",
              "      <div>\n",
              "<style scoped>\n",
              "    .dataframe tbody tr th:only-of-type {\n",
              "        vertical-align: middle;\n",
              "    }\n",
              "\n",
              "    .dataframe tbody tr th {\n",
              "        vertical-align: top;\n",
              "    }\n",
              "\n",
              "    .dataframe thead th {\n",
              "        text-align: right;\n",
              "    }\n",
              "</style>\n",
              "<table border=\"1\" class=\"dataframe\">\n",
              "  <thead>\n",
              "    <tr style=\"text-align: right;\">\n",
              "      <th></th>\n",
              "      <th>Date</th>\n",
              "      <th>Open</th>\n",
              "      <th>High</th>\n",
              "      <th>Low</th>\n",
              "      <th>Close</th>\n",
              "      <th>Adj Close</th>\n",
              "      <th>Volume</th>\n",
              "    </tr>\n",
              "  </thead>\n",
              "  <tbody>\n",
              "    <tr>\n",
              "      <th>0</th>\n",
              "      <td>12/16/02</td>\n",
              "      <td>43.709999</td>\n",
              "      <td>44.025002</td>\n",
              "      <td>43.165001</td>\n",
              "      <td>44.025002</td>\n",
              "      <td>25.587589</td>\n",
              "      <td>6884200</td>\n",
              "    </tr>\n",
              "    <tr>\n",
              "      <th>1</th>\n",
              "      <td>12/17/02</td>\n",
              "      <td>44.000000</td>\n",
              "      <td>44.005001</td>\n",
              "      <td>43.525002</td>\n",
              "      <td>43.700001</td>\n",
              "      <td>25.398678</td>\n",
              "      <td>6956200</td>\n",
              "    </tr>\n",
              "    <tr>\n",
              "      <th>2</th>\n",
              "      <td>12/18/02</td>\n",
              "      <td>43.599998</td>\n",
              "      <td>43.924999</td>\n",
              "      <td>43.404999</td>\n",
              "      <td>43.685001</td>\n",
              "      <td>25.389971</td>\n",
              "      <td>6152400</td>\n",
              "    </tr>\n",
              "    <tr>\n",
              "      <th>3</th>\n",
              "      <td>12/19/02</td>\n",
              "      <td>43.685001</td>\n",
              "      <td>43.695000</td>\n",
              "      <td>42.680000</td>\n",
              "      <td>42.849998</td>\n",
              "      <td>24.904657</td>\n",
              "      <td>9275800</td>\n",
              "    </tr>\n",
              "    <tr>\n",
              "      <th>4</th>\n",
              "      <td>12/20/02</td>\n",
              "      <td>43.345001</td>\n",
              "      <td>43.889999</td>\n",
              "      <td>43.169998</td>\n",
              "      <td>43.840000</td>\n",
              "      <td>25.480066</td>\n",
              "      <td>11114800</td>\n",
              "    </tr>\n",
              "  </tbody>\n",
              "</table>\n",
              "</div>\n",
              "      <button class=\"colab-df-convert\" onclick=\"convertToInteractive('df-6bfbc95f-ad0b-4206-99de-58aa2a3bc8da')\"\n",
              "              title=\"Convert this dataframe to an interactive table.\"\n",
              "              style=\"display:none;\">\n",
              "        \n",
              "  <svg xmlns=\"http://www.w3.org/2000/svg\" height=\"24px\"viewBox=\"0 0 24 24\"\n",
              "       width=\"24px\">\n",
              "    <path d=\"M0 0h24v24H0V0z\" fill=\"none\"/>\n",
              "    <path d=\"M18.56 5.44l.94 2.06.94-2.06 2.06-.94-2.06-.94-.94-2.06-.94 2.06-2.06.94zm-11 1L8.5 8.5l.94-2.06 2.06-.94-2.06-.94L8.5 2.5l-.94 2.06-2.06.94zm10 10l.94 2.06.94-2.06 2.06-.94-2.06-.94-.94-2.06-.94 2.06-2.06.94z\"/><path d=\"M17.41 7.96l-1.37-1.37c-.4-.4-.92-.59-1.43-.59-.52 0-1.04.2-1.43.59L10.3 9.45l-7.72 7.72c-.78.78-.78 2.05 0 2.83L4 21.41c.39.39.9.59 1.41.59.51 0 1.02-.2 1.41-.59l7.78-7.78 2.81-2.81c.8-.78.8-2.07 0-2.86zM5.41 20L4 18.59l7.72-7.72 1.47 1.35L5.41 20z\"/>\n",
              "  </svg>\n",
              "      </button>\n",
              "      \n",
              "  <style>\n",
              "    .colab-df-container {\n",
              "      display:flex;\n",
              "      flex-wrap:wrap;\n",
              "      gap: 12px;\n",
              "    }\n",
              "\n",
              "    .colab-df-convert {\n",
              "      background-color: #E8F0FE;\n",
              "      border: none;\n",
              "      border-radius: 50%;\n",
              "      cursor: pointer;\n",
              "      display: none;\n",
              "      fill: #1967D2;\n",
              "      height: 32px;\n",
              "      padding: 0 0 0 0;\n",
              "      width: 32px;\n",
              "    }\n",
              "\n",
              "    .colab-df-convert:hover {\n",
              "      background-color: #E2EBFA;\n",
              "      box-shadow: 0px 1px 2px rgba(60, 64, 67, 0.3), 0px 1px 3px 1px rgba(60, 64, 67, 0.15);\n",
              "      fill: #174EA6;\n",
              "    }\n",
              "\n",
              "    [theme=dark] .colab-df-convert {\n",
              "      background-color: #3B4455;\n",
              "      fill: #D2E3FC;\n",
              "    }\n",
              "\n",
              "    [theme=dark] .colab-df-convert:hover {\n",
              "      background-color: #434B5C;\n",
              "      box-shadow: 0px 1px 3px 1px rgba(0, 0, 0, 0.15);\n",
              "      filter: drop-shadow(0px 1px 2px rgba(0, 0, 0, 0.3));\n",
              "      fill: #FFFFFF;\n",
              "    }\n",
              "  </style>\n",
              "\n",
              "      <script>\n",
              "        const buttonEl =\n",
              "          document.querySelector('#df-6bfbc95f-ad0b-4206-99de-58aa2a3bc8da button.colab-df-convert');\n",
              "        buttonEl.style.display =\n",
              "          google.colab.kernel.accessAllowed ? 'block' : 'none';\n",
              "\n",
              "        async function convertToInteractive(key) {\n",
              "          const element = document.querySelector('#df-6bfbc95f-ad0b-4206-99de-58aa2a3bc8da');\n",
              "          const dataTable =\n",
              "            await google.colab.kernel.invokeFunction('convertToInteractive',\n",
              "                                                     [key], {});\n",
              "          if (!dataTable) return;\n",
              "\n",
              "          const docLinkHtml = 'Like what you see? Visit the ' +\n",
              "            '<a target=\"_blank\" href=https://colab.research.google.com/notebooks/data_table.ipynb>data table notebook</a>'\n",
              "            + ' to learn more about interactive tables.';\n",
              "          element.innerHTML = '';\n",
              "          dataTable['output_type'] = 'display_data';\n",
              "          await google.colab.output.renderOutput(dataTable, element);\n",
              "          const docLink = document.createElement('div');\n",
              "          docLink.innerHTML = docLinkHtml;\n",
              "          element.appendChild(docLink);\n",
              "        }\n",
              "      </script>\n",
              "    </div>\n",
              "  </div>\n",
              "  "
            ]
          },
          "metadata": {},
          "execution_count": 21
        }
      ]
    },
    {
      "cell_type": "code",
      "execution_count": 22,
      "metadata": {
        "colab": {
          "base_uri": "https://localhost:8080/"
        },
        "id": "rqFc3A5TAkYw",
        "outputId": "cec75fd6-65e7-45b3-e63b-e86143e7716c"
      },
      "outputs": [
        {
          "output_type": "execute_result",
          "data": {
            "text/plain": [
              "(5035, 7)"
            ]
          },
          "metadata": {},
          "execution_count": 22
        }
      ],
      "source": [
        "df.shape"
      ]
    },
    {
      "cell_type": "code",
      "execution_count": 23,
      "metadata": {
        "colab": {
          "base_uri": "https://localhost:8080/"
        },
        "id": "-qhoQIwsAiu_",
        "outputId": "fd95ac4d-ceee-44c2-fa4f-c7c65460a266"
      },
      "outputs": [
        {
          "output_type": "execute_result",
          "data": {
            "text/plain": [
              "<bound method NDFrame.describe of           Date        Open        High         Low       Close   Adj Close  \\\n",
              "0     12/16/02   43.709999   44.025002   43.165001   44.025002   25.587589   \n",
              "1     12/17/02   44.000000   44.005001   43.525002   43.700001   25.398678   \n",
              "2     12/18/02   43.599998   43.924999   43.404999   43.685001   25.389971   \n",
              "3     12/19/02   43.685001   43.695000   42.680000   42.849998   24.904657   \n",
              "4     12/20/02   43.345001   43.889999   43.169998   43.840000   25.480066   \n",
              "...        ...         ...         ...         ...         ...         ...   \n",
              "5030   12/8/22  149.460007  151.380005  149.009995  151.320007  151.320007   \n",
              "5031   12/9/22  150.699997  151.949997  150.220001  150.919998  150.919998   \n",
              "5032  12/12/22  151.220001  152.559998  151.039993  152.470001  152.470001   \n",
              "5033  12/13/22  153.410004  154.229996  150.789993  152.240005  152.240005   \n",
              "5034  12/14/22  152.789993  154.440002  152.169998  152.839996  152.839996   \n",
              "\n",
              "        Volume  \n",
              "0      6884200  \n",
              "1      6956200  \n",
              "2      6152400  \n",
              "3      9275800  \n",
              "4     11114800  \n",
              "...        ...  \n",
              "5030   5187100  \n",
              "5031   5860600  \n",
              "5032   6142400  \n",
              "5033   7680600  \n",
              "5034   7385600  \n",
              "\n",
              "[5035 rows x 7 columns]>"
            ]
          },
          "metadata": {},
          "execution_count": 23
        }
      ],
      "source": [
        "df.describe"
      ]
    },
    {
      "cell_type": "code",
      "execution_count": 24,
      "metadata": {
        "colab": {
          "base_uri": "https://localhost:8080/"
        },
        "id": "jlclvgp-ArAS",
        "outputId": "53d5e818-952d-4724-b846-70da85b8ac32"
      },
      "outputs": [
        {
          "output_type": "execute_result",
          "data": {
            "text/plain": [
              "<bound method DataFrame.info of           Date        Open        High         Low       Close   Adj Close  \\\n",
              "0     12/16/02   43.709999   44.025002   43.165001   44.025002   25.587589   \n",
              "1     12/17/02   44.000000   44.005001   43.525002   43.700001   25.398678   \n",
              "2     12/18/02   43.599998   43.924999   43.404999   43.685001   25.389971   \n",
              "3     12/19/02   43.685001   43.695000   42.680000   42.849998   24.904657   \n",
              "4     12/20/02   43.345001   43.889999   43.169998   43.840000   25.480066   \n",
              "...        ...         ...         ...         ...         ...         ...   \n",
              "5030   12/8/22  149.460007  151.380005  149.009995  151.320007  151.320007   \n",
              "5031   12/9/22  150.699997  151.949997  150.220001  150.919998  150.919998   \n",
              "5032  12/12/22  151.220001  152.559998  151.039993  152.470001  152.470001   \n",
              "5033  12/13/22  153.410004  154.229996  150.789993  152.240005  152.240005   \n",
              "5034  12/14/22  152.789993  154.440002  152.169998  152.839996  152.839996   \n",
              "\n",
              "        Volume  \n",
              "0      6884200  \n",
              "1      6956200  \n",
              "2      6152400  \n",
              "3      9275800  \n",
              "4     11114800  \n",
              "...        ...  \n",
              "5030   5187100  \n",
              "5031   5860600  \n",
              "5032   6142400  \n",
              "5033   7680600  \n",
              "5034   7385600  \n",
              "\n",
              "[5035 rows x 7 columns]>"
            ]
          },
          "metadata": {},
          "execution_count": 24
        }
      ],
      "source": [
        "df.info"
      ]
    },
    {
      "cell_type": "markdown",
      "source": [
        "**Plotting Rise of P&G Stock Price**"
      ],
      "metadata": {
        "id": "syzOBlwzWG2Y"
      }
    },
    {
      "cell_type": "code",
      "execution_count": 32,
      "metadata": {
        "colab": {
          "base_uri": "https://localhost:8080/",
          "height": 335
        },
        "id": "5Wxs_760Areg",
        "outputId": "d46e5882-5afd-43c9-c689-f5bc0e0f5999"
      },
      "outputs": [
        {
          "output_type": "display_data",
          "data": {
            "text/plain": [
              "<Figure size 1080x360 with 1 Axes>"
            ],
            "image/png": "[encoded data removed]"
          },
          "metadata": {
            "needs_background": "light"
          }
        }
      ],
      "source": [
        "plt.figure(figsize=(15,5))\n",
        "plt.xticks([])\n",
        "plt.plot(df['Close'])\n",
        "plt.title('P&G Historical Close Price', fontsize=15)\n",
        "plt.ylabel('Price in US Dollars')\n",
        "plt.xlabel('Last 20 Years')\n",
        "plt.show()"
      ]
    },
    {
      "cell_type": "markdown",
      "source": [
        "**Checking Distribution of Variables**"
      ],
      "metadata": {
        "id": "ilM6XlR8W0Ly"
      }
    },
    {
      "cell_type": "code",
      "execution_count": 33,
      "metadata": {
        "colab": {
          "base_uri": "https://localhost:8080/",
          "height": 527
        },
        "id": "LltbMXZhArjI",
        "outputId": "00234817-ccc5-483f-956c-0e3c8c4ad77f"
      },
      "outputs": [
        {
          "output_type": "display_data",
          "data": {
            "text/plain": [
              "<Figure size 1440x720 with 5 Axes>"
            ],
            "image/png": "[encoded data removed]"
          },
          "metadata": {
            "needs_background": "light"
          }
        }
      ],
      "source": [
        "features = ['Open', 'High', 'Low', 'Close', 'Volume']\n",
        " \n",
        "plt.subplots(figsize=(20,10))\n",
        " \n",
        "for i, col in enumerate(features):\n",
        "  plt.subplot(2,3,i+1)\n",
        "  sb.distplot(df[col])\n",
        "plt.show()"
      ]
    },
    {
      "cell_type": "markdown",
      "metadata": {
        "id": "Yz5YSXYaBrXi"
      },
      "source": [
        "##**Data Preperation**"
      ]
    },
    {
      "cell_type": "markdown",
      "source": [
        "**Dropping Unused Variables**"
      ],
      "metadata": {
        "id": "2bGScTQRWSpN"
      }
    },
    {
      "cell_type": "code",
      "execution_count": 34,
      "metadata": {
        "colab": {
          "base_uri": "https://localhost:8080/"
        },
        "id": "B9BKZethArgx",
        "outputId": "2494f81d-4d4a-4035-d0cc-318bfb7a1ba4"
      },
      "outputs": [
        {
          "output_type": "execute_result",
          "data": {
            "text/plain": [
              "(39, 7)"
            ]
          },
          "metadata": {},
          "execution_count": 34
        }
      ],
      "source": [
        "df[df['Close'] == df['Adj Close']].shape"
      ]
    },
    {
      "cell_type": "code",
      "execution_count": 35,
      "metadata": {
        "id": "f6HDsaoCBK26"
      },
      "outputs": [],
      "source": [
        "df = df.drop(['Adj Close'], axis=1)"
      ]
    },
    {
      "cell_type": "markdown",
      "source": [
        "**Checking for Null Values in Variables**"
      ],
      "metadata": {
        "id": "q8VXUUIzWkGP"
      }
    },
    {
      "cell_type": "code",
      "execution_count": 36,
      "metadata": {
        "colab": {
          "base_uri": "https://localhost:8080/"
        },
        "id": "oE3VNoMgBSvR",
        "outputId": "c2e1a786-3ef2-41f7-f961-b85572ba01e5"
      },
      "outputs": [
        {
          "output_type": "execute_result",
          "data": {
            "text/plain": [
              "Date      0\n",
              "Open      0\n",
              "High      0\n",
              "Low       0\n",
              "Close     0\n",
              "Volume    0\n",
              "dtype: int64"
            ]
          },
          "metadata": {},
          "execution_count": 36
        }
      ],
      "source": [
        "df.isnull().sum()"
      ]
    },
    {
      "cell_type": "markdown",
      "source": [
        "**Checking for Outliers**"
      ],
      "metadata": {
        "id": "ZnUB5b31W_09"
      }
    },
    {
      "cell_type": "code",
      "execution_count": 37,
      "metadata": {
        "colab": {
          "base_uri": "https://localhost:8080/",
          "height": 546
        },
        "id": "rD3sthOqArle",
        "outputId": "7b090b4d-b45d-48e6-a59a-eb6d35698744"
      },
      "outputs": [
        {
          "output_type": "display_data",
          "data": {
            "text/plain": [
              "<Figure size 1440x720 with 5 Axes>"
            ],
            "image/png": "[encoded data removed]"
          },
          "metadata": {
            "needs_background": "light"
          }
        }
      ],
      "source": [
        "plt.subplots(figsize=(20,10))\n",
        "for i, col in enumerate(features):\n",
        "  plt.subplot(2,3,i+1)\n",
        "  sb.boxplot(df[col])\n",
        "plt.show()"
      ]
    },
    {
      "cell_type": "markdown",
      "source": [
        "No outliers other than volume which is okay. Variance in share prices makes sense given the trend of the stock price in the last two years."
      ],
      "metadata": {
        "id": "yEfPdCVSXIMX"
      }
    },
    {
      "cell_type": "markdown",
      "metadata": {
        "id": "HfheneX5A2bJ"
      },
      "source": [
        "##**Modeling+Evaluating**\n",
        "\n"
      ]
    },
    {
      "cell_type": "markdown",
      "source": [
        "Setting target value for machine learning to strive for."
      ],
      "metadata": {
        "id": "Mx0uU1q7awrq"
      }
    },
    {
      "cell_type": "code",
      "source": [
        "df['open-close']  = df['Open'] - df['Close']\n",
        "df['low-high']  = df['Low'] - df['High']\n",
        "df['target'] = np.where(df['Close'].shift(-1) > df['Close'], 1, 0)"
      ],
      "metadata": {
        "id": "s5FqCNkjCP1Z"
      },
      "execution_count": 38,
      "outputs": []
    },
    {
      "cell_type": "markdown",
      "source": [
        "Checking if target is balanced"
      ],
      "metadata": {
        "id": "KCiubKWLbZyI"
      }
    },
    {
      "cell_type": "code",
      "source": [
        "plt.pie(df['target'].value_counts().values,\n",
        "        labels=[0, 1], autopct='%1.1f%%')\n",
        "plt.show()"
      ],
      "metadata": {
        "colab": {
          "base_uri": "https://localhost:8080/",
          "height": 248
        },
        "id": "vpKzVTThCPyq",
        "outputId": "326d9dd2-b6f5-4460-ab93-91a4173a2d52"
      },
      "execution_count": 39,
      "outputs": [
        {
          "output_type": "display_data",
          "data": {
            "text/plain": [
              "<Figure size 432x288 with 1 Axes>"
            ],
            "image/png": "[encoded data removed]"
          },
          "metadata": {}
        }
      ]
    },
    {
      "cell_type": "markdown",
      "source": [
        "Using a heatmap to see if any variables are highly correlated. Setting the threshold fpr high correlation as anything over 0.9."
      ],
      "metadata": {
        "id": "icPJhCfrb6s0"
      }
    },
    {
      "cell_type": "code",
      "source": [
        "plt.figure(figsize=(10, 10))\n",
        "sb.heatmap(df.corr() > 0.9, annot=True, cbar=False)\n",
        "plt.show()"
      ],
      "metadata": {
        "colab": {
          "base_uri": "https://localhost:8080/",
          "height": 592
        },
        "id": "GTN6jkQRCPtP",
        "outputId": "b34f9d10-9638-418e-8bd9-37be81081dc4"
      },
      "execution_count": 40,
      "outputs": [
        {
          "output_type": "display_data",
          "data": {
            "text/plain": [
              "<Figure size 720x720 with 1 Axes>"
            ],
            "image/png": "[encoded data removed]"
          },
          "metadata": {
            "needs_background": "light"
          }
        }
      ]
    },
    {
      "cell_type": "markdown",
      "source": [
        "From the above we can see that none of the variables are highly correlated other than Open, High, Low and Close which makes sense."
      ],
      "metadata": {
        "id": "zULjO2Ujbr37"
      }
    },
    {
      "cell_type": "code",
      "source": [
        "features = df[['open-close', 'low-high']]\n",
        "target = df['target']\n",
        " \n",
        "scaler = StandardScaler()\n",
        "features = scaler.fit_transform(features)\n",
        " \n",
        "X_train, X_valid, Y_train, Y_valid = train_test_split(\n",
        "    features, target, test_size=0.1, random_state=2022)\n",
        "print(X_train.shape, X_valid.shape)"
      ],
      "metadata": {
        "colab": {
          "base_uri": "https://localhost:8080/"
        },
        "id": "H9dtKqPQGaf2",
        "outputId": "354af944-1f8d-4923-a8ff-dd9089a5fa2c"
      },
      "execution_count": 41,
      "outputs": [
        {
          "output_type": "stream",
          "name": "stdout",
          "text": [
            "(4531, 2) (504, 2)\n"
          ]
        }
      ]
    },
    {
      "cell_type": "markdown",
      "source": [
        "##**Deployment**"
      ],
      "metadata": {
        "id": "7M00yiPPGS58"
      }
    },
    {
      "cell_type": "markdown",
      "source": [
        "Using three types of machine learning to see which is able to best predict whether or not to buy P&G stock. The code below is for a logistic regression, a support vector classifier and a XGBClassifier."
      ],
      "metadata": {
        "id": "R5kriZU4QA3P"
      }
    },
    {
      "cell_type": "code",
      "source": [
        "models = [LogisticRegression(), SVC(\n",
        "  kernel='poly', probability=True), XGBClassifier()]\n",
        " \n",
        "for i in range(3):\n",
        "  models[i].fit(X_train, Y_train)\n",
        " \n",
        "  print(f'{models[i]} : ')\n",
        "  print('Training Accuracy : ', metrics.roc_auc_score(\n",
        "    Y_train, models[i].predict_proba(X_train)[:,1]))\n",
        "  print('Validation Accuracy : ', metrics.roc_auc_score(\n",
        "    Y_valid, models[i].predict_proba(X_valid)[:,1]))\n",
        "  print()"
      ],
      "metadata": {
        "colab": {
          "base_uri": "https://localhost:8080/"
        },
        "id": "WBjgOFR6GSiq",
        "outputId": "cf6b0a70-6f12-44b6-df47-6e61c80b4c6e"
      },
      "execution_count": 42,
      "outputs": [
        {
          "output_type": "stream",
          "name": "stdout",
          "text": [
            "LogisticRegression() : \n",
            "Training Accuracy :  0.5210454431127567\n",
            "Validation Accuracy :  0.5233921815889029\n",
            "\n",
            "SVC(kernel='poly', probability=True) : \n",
            "Training Accuracy :  0.4948908425508352\n",
            "Validation Accuracy :  0.4716582597730139\n",
            "\n",
            "XGBClassifier() : \n",
            "Training Accuracy :  0.6630244129752789\n",
            "Validation Accuracy :  0.4850015762925599\n",
            "\n"
          ]
        }
      ]
    },
    {
      "cell_type": "markdown",
      "source": [
        "From the above results we see that the SVC performed the worse. The best on the training set was the XGB Classifier, but looking at how it performed in validation test shows that the model is likely overfitting. The logistic regression performed the best, but still barely better than a 50/50 guess."
      ],
      "metadata": {
        "id": "un22eqHzQtZ7"
      }
    },
    {
      "cell_type": "markdown",
      "source": [
        "Visually plotting our results to better interpret them."
      ],
      "metadata": {
        "id": "-KRokK9VRJtr"
      }
    },
    {
      "cell_type": "code",
      "source": [
        "metrics.plot_confusion_matrix(models[0], X_valid, Y_valid)\n",
        "plt.show()"
      ],
      "metadata": {
        "colab": {
          "base_uri": "https://localhost:8080/",
          "height": 283
        },
        "id": "OD6HGF-TGNal",
        "outputId": "13e5762e-b106-454c-8b79-b1cb1cc1c763"
      },
      "execution_count": 43,
      "outputs": [
        {
          "output_type": "display_data",
          "data": {
            "text/plain": [
              "<Figure size 432x288 with 2 Axes>"
            ],
            "image/png": "[encoded data removed]"
          },
          "metadata": {
            "needs_background": "light"
          }
        }
      ]
    },
    {
      "cell_type": "markdown",
      "source": [
        "The above graph shows that the models did not perform much better than flipping a coin.\n"
      ],
      "metadata": {
        "id": "1X8nIi6dROI0"
      }
    },
    {
      "cell_type": "markdown",
      "source": [
        "This result is what was expected. We were aware of the small liklihood of being able to sucessfully predict whether or not to buy a stock from the start. While the machine learning was unsucessful in this pursuit, we did successfully have the machine learning categorize the data off of a training set and predict the validation set. Having an unsuccessful model IS OKAY IN DATA SCIENCE. The import thing is that we take the time to understand why it fails and and are clear and transparent about those failures."
      ],
      "metadata": {
        "id": "NxUcnSzhRXvz"
      }
    },
    {
      "cell_type": "markdown",
      "source": [
        "##**Sources**"
      ],
      "metadata": {
        "id": "faAXRVOMO1uY"
      }
    },
    {
      "cell_type": "markdown",
      "source": [
        "https://neptune.ai/blog/predicting-stock-prices-using-machine-learning"
      ],
      "metadata": {
        "id": "bphbWGRaPLa8"
      }
    },
    {
      "cell_type": "markdown",
      "source": [
        "https://www.simplilearn.com/tutorials/machine-learning-tutorial/stock-price-prediction-using-machine-learning"
      ],
      "metadata": {
        "id": "lv9fWLtMPEki"
      }
    },
    {
      "cell_type": "markdown",
      "source": [
        "https://www.geeksforgeeks.org/stock-price-prediction-using-machine-learning-in-python/"
      ],
      "metadata": {
        "id": "ZB3hlBZLHTh5"
      }
    },
    {
      "cell_type": "markdown",
      "source": [
        "https://towardsdatascience.com/predicting-stock-prices-using-a-keras-lstm-model-4225457f0233"
      ],
      "metadata": {
        "id": "xd_tYZdvPRQL"
      }
    },
    {
      "cell_type": "markdown",
      "source": [
        "https://www.analyticsvidhya.com/blog/2021/10/machine-learning-for-stock-market-prediction-with-step-by-step-implementation/"
      ],
      "metadata": {
        "id": "Nq4F2Xn-PmOp"
      }
    }
  ],
  "metadata": {
    "colab": {
      "provenance": [],
      "authorship_tag": "ABX9TyMMmRr3ByFBK0KBcavZOfgz",
      "include_colab_link": true
    },
    "kernelspec": {
      "display_name": "Python 3",
      "name": "python3"
    },
    "language_info": {
      "name": "python"
    }
  },
  "nbformat": 4,
  "nbformat_minor": 0
}
